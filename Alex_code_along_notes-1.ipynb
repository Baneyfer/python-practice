{
 "cells": [
  {
   "cell_type": "code",
   "execution_count": 1,
   "id": "da46ab68",
   "metadata": {},
   "outputs": [],
   "source": [
    "mydict = {'name':'Alex'}"
   ]
  },
  {
   "cell_type": "code",
   "execution_count": 3,
   "id": "13e9a610",
   "metadata": {},
   "outputs": [],
   "source": [
    "mydict['age'] = 36"
   ]
  },
  {
   "cell_type": "code",
   "execution_count": 4,
   "id": "f1e4909c",
   "metadata": {},
   "outputs": [
    {
     "data": {
      "text/plain": [
       "{'name': 'Alex', 'age': 36}"
      ]
     },
     "execution_count": 4,
     "metadata": {},
     "output_type": "execute_result"
    }
   ],
   "source": [
    "mydict"
   ]
  },
  {
   "cell_type": "code",
   "execution_count": 11,
   "id": "da4a8c53",
   "metadata": {},
   "outputs": [
    {
     "name": "stdout",
     "output_type": "stream",
     "text": [
      "Welcome to Python Burger!\n",
      "Menu\n",
      "1. Burger - $5.99\n",
      "2. Pizza - $8.49\n",
      "3. Salad - $4.99\n",
      "4. Drink - $1.99\n",
      "{'Burger': [10, 5.99]}\n",
      "Menu\n",
      "1. Burger - $5.99\n",
      "2. Pizza - $8.49\n",
      "3. Salad - $4.99\n",
      "4. Drink - $1.99\n",
      "{'Burger': [10, 5.99], 'Pizza': [30, 8.49]}\n",
      "Burger: 59.900000000000006\n",
      "Pizza: 254.70000000000002\n"
     ]
    }
   ],
   "source": [
    "order = {\n",
    "    }\n",
    "\n",
    "menu = {\n",
    "    1 : {\"name\":\"Burger\",\"price\":5.99},\n",
    "    2 : {\"name\":\"Pizza\",\"price\":8.49},\n",
    "    3 : {\"name\":\"Salad\",\"price\":4.99},\n",
    "    4 : {\"name\":\"Drink\",\"price\":1.99},\n",
    "}\n",
    "\n",
    "order_total = 0\n",
    "\n",
    "# Print welcome statement\n",
    "print(\"Welcome to Python Burger!\")\n",
    "\n",
    "# Initiate WHILE loop \n",
    "while True:\n",
    "\n",
    "#  Display menu items - (print statement) - for loop initiate menu_items\n",
    "    print(\"Menu\")\n",
    "    for item_no, details in menu.items():\n",
    "        print(f\"{item_no}. {details['name']} - ${details['price']}\")\n",
    "\n",
    "# Prompt menu selection (user input)\n",
    "    item_choice = (int(input('Choose item number: ')))\n",
    "\n",
    "# Prompt qty \n",
    "    item_qty = (int(input('Enter quantity: ')))\n",
    "#add order\n",
    "    \n",
    "    if item_choice in menu:\n",
    "        item_name = menu[item_choice]['name']\n",
    "        item_price = menu[item_choice]['price']\n",
    "        \n",
    "        if item_name in order:\n",
    "          order[item_name][0] += item_qty\n",
    "        else:\n",
    "            order[item_name] = [item_qty, item_price]\n",
    "    \n",
    "    else:\n",
    "        print(\"That is not a valid menu item.\")\n",
    "    print(order)\n",
    "    areYouFuckingDone = input('Will that be all? y/n')\n",
    "    if areYouFuckingDone[0].lower() == 'y':\n",
    "        break\n",
    "\n",
    "order_subtotal = {}\n",
    "for item, details in order.items():\n",
    "    order_subtotal[item] = details[0] * details[1]\n",
    "    \n",
    "for item, subtotal in order_subtotal.items():\n",
    "    print(f'{item}: {subtotal}')"
   ]
  },
  {
   "cell_type": "code",
   "execution_count": 6,
   "id": "15e43395",
   "metadata": {},
   "outputs": [
    {
     "data": {
      "text/plain": [
       "'YESYESYES'"
      ]
     },
     "execution_count": 6,
     "metadata": {},
     "output_type": "execute_result"
    }
   ],
   "source": [
    "areYouFuckingDone = input('Will that be all? y/n')\n",
    "areYouFuckingDone"
   ]
  },
  {
   "cell_type": "code",
   "execution_count": 8,
   "id": "80579331",
   "metadata": {},
   "outputs": [
    {
     "data": {
      "text/plain": [
       "'y'"
      ]
     },
     "execution_count": 8,
     "metadata": {},
     "output_type": "execute_result"
    }
   ],
   "source": [
    "areYouFuckingDone[0].lower()"
   ]
  },
  {
   "cell_type": "code",
   "execution_count": 9,
   "id": "db28a148",
   "metadata": {},
   "outputs": [
    {
     "data": {
      "text/plain": [
       "['apple', 'banana', 'pear', 'penis']"
      ]
     },
     "execution_count": 9,
     "metadata": {},
     "output_type": "execute_result"
    }
   ],
   "source": [
    "'apple, banana, pear, penis'.split(', ')"
   ]
  },
  {
   "cell_type": "code",
   "execution_count": 12,
   "id": "57a8eabc",
   "metadata": {},
   "outputs": [
    {
     "data": {
      "text/plain": [
       "59.9"
      ]
     },
     "execution_count": 12,
     "metadata": {},
     "output_type": "execute_result"
    }
   ],
   "source": [
    "round(59.900000000000006, 2)"
   ]
  },
  {
   "cell_type": "code",
   "execution_count": 21,
   "id": "64572d3f",
   "metadata": {},
   "outputs": [
    {
     "name": "stdout",
     "output_type": "stream",
     "text": [
      "That'll be $599,999.90\n"
     ]
    }
   ],
   "source": [
    "p = 599999.900000000000006\n",
    "print(f\"That'll be ${p:,.2f}\")"
   ]
  },
  {
   "cell_type": "code",
   "execution_count": 22,
   "id": "ba7bc91f",
   "metadata": {},
   "outputs": [
    {
     "data": {
      "text/plain": [
       "10000000000"
      ]
     },
     "execution_count": 22,
     "metadata": {},
     "output_type": "execute_result"
    }
   ],
   "source": [
    "10_000_000_000"
   ]
  },
  {
   "cell_type": "code",
   "execution_count": null,
   "id": "54423af5",
   "metadata": {},
   "outputs": [
    {
     "data": {
      "text/plain": [
       "1000.0"
      ]
     },
     "execution_count": 23,
     "metadata": {},
     "output_type": "execute_result"
    }
   ],
   "source": [
    "1_000.00\n"
   ]
  },
  {
   "cell_type": "code",
   "execution_count": null,
   "id": "87ad9603",
   "metadata": {},
   "outputs": [],
   "source": []
  }
 ],
 "metadata": {
  "kernelspec": {
   "display_name": "Python 3",
   "language": "python",
   "name": "python3"
  },
  "language_info": {
   "codemirror_mode": {
    "name": "ipython",
    "version": 3
   },
   "file_extension": ".py",
   "mimetype": "text/x-python",
   "name": "python",
   "nbconvert_exporter": "python",
   "pygments_lexer": "ipython3",
   "version": "3.13.6"
  }
 },
 "nbformat": 4,
 "nbformat_minor": 5
}
